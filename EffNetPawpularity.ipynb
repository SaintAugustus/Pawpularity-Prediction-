{
 "cells": [
  {
   "cell_type": "code",
   "execution_count": 1,
   "id": "827d8c12",
   "metadata": {
    "_cell_guid": "b1076dfc-b9ad-4769-8c92-a6c4dae69d19",
    "_uuid": "8f2839f25d086af736a60e9eeb907d3b93b6e0e5",
    "execution": {
     "iopub.execute_input": "2021-12-15T02:59:15.304752Z",
     "iopub.status.busy": "2021-12-15T02:59:15.303286Z",
     "iopub.status.idle": "2021-12-15T02:59:29.191345Z",
     "shell.execute_reply": "2021-12-15T02:59:29.192464Z",
     "shell.execute_reply.started": "2021-12-13T00:17:05.46209Z"
    },
    "papermill": {
     "duration": 13.903959,
     "end_time": "2021-12-15T02:59:29.192728",
     "exception": false,
     "start_time": "2021-12-15T02:59:15.288769",
     "status": "completed"
    },
    "tags": []
   },
   "outputs": [
    {
     "name": "stdout",
     "output_type": "stream",
     "text": [
      "Looking in links: /tmp/pip/cache/\r\n",
      "Processing /tmp/pip/cache/efficientnet_pytorch-0.7.1.tar.gz\r\n",
      "  Preparing metadata (setup.py) ... \u001b[?25l-\b \bdone\r\n",
      "\u001b[?25hRequirement already satisfied: torch in /opt/conda/lib/python3.7/site-packages (from efficientnet_pytorch) (1.9.1)\r\n",
      "Requirement already satisfied: typing-extensions in /opt/conda/lib/python3.7/site-packages (from torch->efficientnet_pytorch) (3.10.0.2)\r\n",
      "Building wheels for collected packages: efficientnet-pytorch\r\n",
      "  Building wheel for efficientnet-pytorch (setup.py) ... \u001b[?25l-\b \b\\\b \bdone\r\n",
      "\u001b[?25h  Created wheel for efficientnet-pytorch: filename=efficientnet_pytorch-0.7.1-py3-none-any.whl size=16446 sha256=d58d7f4400098c761a67983de21c9462100a2b91b5985d53a064c4dc4fe9a01f\r\n",
      "  Stored in directory: /root/.cache/pip/wheels/02/50/84/82c97bfff69785108e55a6236d7ba11c83990eed25d4eab240\r\n",
      "Successfully built efficientnet-pytorch\r\n",
      "Installing collected packages: efficientnet-pytorch\r\n",
      "Successfully installed efficientnet-pytorch-0.7.1\r\n",
      "\u001b[33mWARNING: Running pip as the 'root' user can result in broken permissions and conflicting behaviour with the system package manager. It is recommended to use a virtual environment instead: https://pip.pypa.io/warnings/venv\u001b[0m\r\n"
     ]
    }
   ],
   "source": [
    "!mkdir -p /tmp/pip/cache/\n",
    "!mkdir -p /root/.cache/torch/hub/checkpoints\n",
    "!cp ../input/pawpularity-dataset-first-model/efficientnet_pytorch-0.7.1.xyz /tmp/pip/cache/efficientnet_pytorch-0.7.1.tar.gz\n",
    "!cp ../input/pawpularity-dataset-first-model/efficientnet-b0-355c32eb.pth /root/.cache/torch/hub/checkpoints/efficientnet-b0-355c32eb.pth\n",
    "!pip install --no-index --find-links /tmp/pip/cache/ efficientnet_pytorch"
   ]
  },
  {
   "cell_type": "code",
   "execution_count": null,
   "id": "f3f97b9c",
   "metadata": {
    "papermill": {
     "duration": 0.010957,
     "end_time": "2021-12-15T02:59:29.215688",
     "exception": false,
     "start_time": "2021-12-15T02:59:29.204731",
     "status": "completed"
    },
    "tags": []
   },
   "outputs": [],
   "source": []
  },
  {
   "cell_type": "code",
   "execution_count": null,
   "id": "957f6403",
   "metadata": {
    "papermill": {
     "duration": 0.011426,
     "end_time": "2021-12-15T02:59:29.238532",
     "exception": false,
     "start_time": "2021-12-15T02:59:29.227106",
     "status": "completed"
    },
    "tags": []
   },
   "outputs": [],
   "source": []
  },
  {
   "cell_type": "code",
   "execution_count": 2,
   "id": "ce8975ac",
   "metadata": {
    "execution": {
     "iopub.execute_input": "2021-12-15T02:59:29.268634Z",
     "iopub.status.busy": "2021-12-15T02:59:29.267851Z",
     "iopub.status.idle": "2021-12-15T02:59:35.418445Z",
     "shell.execute_reply": "2021-12-15T02:59:35.417935Z",
     "shell.execute_reply.started": "2021-12-13T00:17:19.855693Z"
    },
    "papermill": {
     "duration": 6.168738,
     "end_time": "2021-12-15T02:59:35.418587",
     "exception": false,
     "start_time": "2021-12-15T02:59:29.249849",
     "status": "completed"
    },
    "tags": []
   },
   "outputs": [],
   "source": [
    "# This Python 3 environment comes with many helpful analytics libraries installed\n",
    "# It is defined by the kaggle/python Docker image: https://github.com/kaggle/docker-python\n",
    "# For example, here's several helpful packages to load\n",
    "from efficientnet_pytorch import EfficientNet\n",
    "import numpy as np # linear algebra\n",
    "import pandas as pd # data processing, CSV file I/O (e.g. pd.read_csv)\n",
    "import torch\n",
    "from efficientnet_pytorch import EfficientNet\n",
    "import torch.nn as nn\n",
    "import torch.nn\n",
    "import torchvision.transforms as T\n",
    "from torchvision.io import read_image\n",
    "from torch.utils.data import DataLoader, Dataset\n",
    "import albumentations\n",
    "import cv2\n",
    "import os.path as p\n",
    "from tqdm import tqdm\n",
    "# Input data files are available in the read-only \"../input/\" directory\n",
    "# For example, running this (by clicking run or pressing Shift+Enter) will list all files under the input directory\n",
    "\n",
    "import os\n",
    "for dirname, _, filenames in os.walk('/kaggle/input'):\n",
    "    for filename in filenames:\n",
    "        # print(os.path.join(dirname, filename))\n",
    "        pass\n",
    "\n",
    "# You can write up to 20GB to the current directory (/kaggle/working/) that gets preserved as output when you create a version using \"Save & Run All\" \n",
    "# You can also write temporary files to /kaggle/temp/, but they won't be saved outside of the current session"
   ]
  },
  {
   "cell_type": "code",
   "execution_count": 3,
   "id": "5b78ea01",
   "metadata": {
    "execution": {
     "iopub.execute_input": "2021-12-15T02:59:35.450883Z",
     "iopub.status.busy": "2021-12-15T02:59:35.450028Z",
     "iopub.status.idle": "2021-12-15T02:59:35.451933Z",
     "shell.execute_reply": "2021-12-15T02:59:35.452607Z",
     "shell.execute_reply.started": "2021-12-13T00:17:26.295469Z"
    },
    "papermill": {
     "duration": 0.022849,
     "end_time": "2021-12-15T02:59:35.452734",
     "exception": false,
     "start_time": "2021-12-15T02:59:35.429885",
     "status": "completed"
    },
    "tags": []
   },
   "outputs": [],
   "source": [
    "\n",
    "# import tez\n",
    "# import timm\n",
    "# import torchvision.models as models\n",
    "\n",
    "\n",
    "class PetFinderModel(nn.Module):\n",
    "    def __init__(self):\n",
    "        super(PetFinderModel, self).__init__()\n",
    "        self.eff_net = EfficientNet.from_name('efficientnet-b7')  # [m, 1000] for b1\n",
    "        # self.bn1 = nn.BatchNorm1d(1000)\n",
    "        self.drop_out = nn.Dropout(p=0.5)\n",
    "\n",
    "        self.fc2 = nn.Linear(in_features=1000+12, out_features=64)\n",
    "        # self.rl2 = nn.ReLU()\n",
    "        self.fc3 = nn.Linear(in_features=64, out_features=1)\n",
    "\n",
    "        # for p in self.eff_net.parameters():\n",
    "        #     p.requires_grad = False\n",
    "\n",
    "    def forward(self, x, meta):\n",
    "        e = self.eff_net(x)  # [1, 1000] for b1\n",
    "        # e_normed = self.bn1(e)\n",
    "        # e_dropped = self.drop_out(e_normed)\n",
    "\n",
    "        fr_r_meta = torch.cat((e, meta), dim=1)\n",
    "        fr_r_meta_dropped = self.drop_out(fr_r_meta)\n",
    "\n",
    "        f2 = self.fc2(fr_r_meta_dropped)  # FIXME\n",
    "        # f2_r = self.rl2(f2)\n",
    "        f2_r = torch.sigmoid(f2)\n",
    "        # f2_rd = self.drop_out2(f2_r)\n",
    "\n",
    "        f3 = self.fc3(f2_r)\n",
    "        out = torch.sigmoid(f3) * 100\n",
    "\n",
    "        return out"
   ]
  },
  {
   "cell_type": "code",
   "execution_count": 4,
   "id": "36a9023e",
   "metadata": {
    "execution": {
     "iopub.execute_input": "2021-12-15T02:59:35.488843Z",
     "iopub.status.busy": "2021-12-15T02:59:35.488055Z",
     "iopub.status.idle": "2021-12-15T02:59:35.489863Z",
     "shell.execute_reply": "2021-12-15T02:59:35.490544Z",
     "shell.execute_reply.started": "2021-12-13T00:17:26.308732Z"
    },
    "papermill": {
     "duration": 0.026942,
     "end_time": "2021-12-15T02:59:35.490666",
     "exception": false,
     "start_time": "2021-12-15T02:59:35.463724",
     "status": "completed"
    },
    "tags": []
   },
   "outputs": [],
   "source": [
    "class PetFinderDataset(Dataset):\n",
    "    def __init__(self, df, image_size=384, augment=False):\n",
    "        self._X = df[\"Id\"].values\n",
    "        self._y = None\n",
    "        self.augment = augment\n",
    "        if \"Pawpularity\" in df.keys():\n",
    "            self._y = torch.tensor(df[\"Pawpularity\"].values, dtype=torch.float32)\n",
    "\n",
    "        # handeling metadata\n",
    "        b = df[\"Subject Focus\"].values.reshape(-1, 1)\n",
    "        c = df[\"Eyes\"].values.reshape(-1, 1)\n",
    "        d = df[\"Face\"].values.reshape(-1, 1)\n",
    "        e = df[\"Near\"].values.reshape(-1, 1)\n",
    "        f = df[\"Action\"].values.reshape(-1, 1)\n",
    "        g = df[\"Accessory\"].values.reshape(-1, 1)\n",
    "        h = df[\"Group\"].values.reshape(-1, 1)\n",
    "        i = df[\"Collage\"].values.reshape(-1, 1)\n",
    "        j = df[\"Human\"].values.reshape(-1, 1)\n",
    "        k = df[\"Occlusion\"].values.reshape(-1, 1)\n",
    "        l = df[\"Info\"].values.reshape(-1, 1)\n",
    "        m = df[\"Blur\"].values.reshape(-1, 1)\n",
    "        self.meta = torch.tensor(np.hstack((b, c, d, e, f, g, h, i, j, k, l, m)), dtype=torch.float32)\n",
    "        if not self.augment:\n",
    "            self._transform = T.Compose([\n",
    "                # T.ToTensor(),\n",
    "                # T.ConvertImageDtype(torch.float32),\n",
    "                lambda x: x / 255,\n",
    "                T.Resize([image_size, image_size]),\n",
    "                # T.transforms.Normalize(mean=[0.485, 0.456, 0.406],\n",
    "                #                        std=[0.229, 0.224, 0.225])])\n",
    "                T.transforms.Normalize(mean=[0.5, 0.5, 0.5],\n",
    "                                       std=[0.5, 0.5, 0.5])\n",
    "            ])\n",
    "\n",
    "        # if not self.augment:\n",
    "        #     self._transform = albumentations.Compose([\n",
    "        #         albumentations.Resize(image_size, image_size, p=1),\n",
    "        #         albumentations.Normalize(\n",
    "        #             mean=[0.485, 0.456, 0.406],\n",
    "        #             std=[0.229, 0.224, 0.225],\n",
    "        #             max_pixel_value=255.0,\n",
    "        #             p=1.0,\n",
    "        #         ),\n",
    "        #     ],\n",
    "        #         p=1.0,\n",
    "        #     )\n",
    "        else:\n",
    "            raise NotImplementedError\n",
    "\n",
    "    def __len__(self):\n",
    "        return len(self._X)\n",
    "\n",
    "    def __getitem__(self, idx):\n",
    "        image_path = self._X[idx]\n",
    "        image = read_image(image_path).type(torch.float32)\n",
    "        image = self._transform(image)\n",
    "        #\n",
    "        # my_img = image.type(torch.float32) / 255\n",
    "        # my_img = (my_img - .5) / .5  # FIXME delete this\n",
    "\n",
    "        # image = cv2.imread(self._X[idx])\n",
    "        # image = cv2.cvtColor(image, cv2.COLOR_BGR2RGB)\n",
    "        # image = self._transform(image=image)[\"image\"]\n",
    "        # image = np.transpose(image, (2, 0, 1)).astype(np.float32)  # permutation of dims\n",
    "\n",
    "        meta = self.meta[idx]\n",
    "        if self._y is not None:\n",
    "            label = self._y[idx]\n",
    "            return image, meta, label\n",
    "        return image, meta\n",
    "\n"
   ]
  },
  {
   "cell_type": "code",
   "execution_count": 5,
   "id": "1f5e0c36",
   "metadata": {
    "execution": {
     "iopub.execute_input": "2021-12-15T02:59:35.515422Z",
     "iopub.status.busy": "2021-12-15T02:59:35.514606Z",
     "iopub.status.idle": "2021-12-15T02:59:35.523693Z",
     "shell.execute_reply": "2021-12-15T02:59:35.523270Z",
     "shell.execute_reply.started": "2021-12-13T00:17:26.329907Z"
    },
    "papermill": {
     "duration": 0.022372,
     "end_time": "2021-12-15T02:59:35.523801",
     "exception": false,
     "start_time": "2021-12-15T02:59:35.501429",
     "status": "completed"
    },
    "tags": []
   },
   "outputs": [],
   "source": [
    "def predict(net, load_weights=True, pre_trained_params_path=None):\n",
    "    dataset_path = \"../input/petfinder-pawpularity-score\"\n",
    "    net.to(\"cuda:0\")\n",
    "    if load_weights:\n",
    "        load_network_weights2(net, pre_trained_params_path)\n",
    "    else:\n",
    "        raise Exception(\"ERROR: need to load network weight\")\n",
    "    df = pd.read_csv(p.join(dataset_path, \"test.csv\"))\n",
    "    id_temp = df[\"Id\"].copy()\n",
    "    df[\"Id\"] = df[\"Id\"].apply(lambda x: os.path.join(dataset_path, \"test\", x + \".jpg\"))\n",
    "    test_loader = torch.utils.data.DataLoader(PetFinderDataset(df), batch_size=32,\n",
    "                                              num_workers=8, drop_last=False)\n",
    "    test_iter = iter(test_loader)\n",
    "    test_num_mini_batches = len(test_loader)\n",
    "    predictions = np.array([])\n",
    "    # net.eval()\n",
    "    for _ in tqdm(range(test_num_mini_batches)):\n",
    "        test_input, meta = test_iter.next()\n",
    "        test_input, meta = test_input.to(\"cuda:0\"), meta.to(\"cuda:0\")\n",
    "        test_output = net(test_input, meta)\n",
    "        predictions = np.append(predictions, test_output.detach().cpu().numpy())\n",
    "\n",
    "    df[\"Pawpularity\"] = predictions\n",
    "    df[\"Id\"] = id_temp\n",
    "    df = df[[\"Id\", \"Pawpularity\"]]\n",
    "    df.to_csv(\"submission.csv\", index=False)\n",
    "    print(\"finished predictions\")\n",
    "    return df"
   ]
  },
  {
   "cell_type": "code",
   "execution_count": 6,
   "id": "ffdfcb51",
   "metadata": {
    "execution": {
     "iopub.execute_input": "2021-12-15T02:59:35.556347Z",
     "iopub.status.busy": "2021-12-15T02:59:35.553204Z",
     "iopub.status.idle": "2021-12-15T02:59:35.558792Z",
     "shell.execute_reply": "2021-12-15T02:59:35.558340Z",
     "shell.execute_reply.started": "2021-12-13T00:17:26.345208Z"
    },
    "papermill": {
     "duration": 0.024196,
     "end_time": "2021-12-15T02:59:35.558899",
     "exception": false,
     "start_time": "2021-12-15T02:59:35.534703",
     "status": "completed"
    },
    "tags": []
   },
   "outputs": [],
   "source": [
    "def predict2():\n",
    "    super_final_predictions = []\n",
    "    df_test = pd.read_csv(\"../input/petfinder-pawpularity-score/test.csv\")\n",
    "    id_temp = df_test[\"Id\"].copy()\n",
    "    df_test[\"Id\"] = df_test[\"Id\"].apply(lambda x: os.path.join(\"../input/petfinder-pawpularity-score/\", \"test\", x + \".jpg\"))\n",
    "    \n",
    "    net = PetFinderModel()\n",
    "    net.to(\"cuda:0\")\n",
    "    load_network_weights2(net, \"../input/cnn-v0113/CNN-v0.11.3_epoch_23_lowest16.979701434602642.pth\")\n",
    "\n",
    "    for fold in range(10):\n",
    "        # model = torch_model(model_name=\"swin_large_patch4_window12_384\")\n",
    "        # model.load(f\"../input/paw-models/model_f0.bin\", device=\"cuda\", weights_only=True)\n",
    "        \n",
    "#         net = PetFinderModel()\n",
    "#         net.to(\"cuda:0\")\n",
    "#         load_network_weights2(net, \"../input/cnnv059-epoch-19pth/CNN-v0.5.9_epoch_19.pth\")\n",
    "\n",
    "#         df_test = pd.read_csv(\"../input/petfinder-pawpularity-score/test.csv\")\n",
    "#         test_paths = [f\"../input/petfinder-pawpularity-score/test/{x}.jpg\" for x in df_test[\"Id\"].values]\n",
    "#         dense_features = ['Subject Focus', 'Eyes', 'Face', 'Near', 'Action', 'Accessory',\n",
    "#             'Group', 'Collage', 'Human', 'Occlusion', 'Info', 'Blur']\n",
    "\n",
    "#         test = Dataset(\n",
    "#             img_paths = test_paths,\n",
    "#             dense_features = df_test[dense_features].values,\n",
    "#             targets = np.ones(len(test_paths)),\n",
    "#             augmentations=test_aug,\n",
    "#         )\n",
    "#         df_test = pd.read_csv(\"../input/petfinder-pawpularity-score/test.csv\")\n",
    "#         id_temp = df_test[\"Id\"].copy()\n",
    "#         df_test[\"Id\"] = df_test[\"Id\"].apply(lambda x: os.path.join(\"../input/petfinder-pawpularity-score/\", \"test\", x + \".jpg\"))\n",
    "        \n",
    "        # test_paths = [f\"../input/petfinder-pawpularity-score/test/{x}.jpg\" for x in df_test[\"Id\"].values]\n",
    "        \n",
    "        test_loader = torch.utils.data.DataLoader(PetFinderDataset(df_test), batch_size=4,\n",
    "                                                  num_workers=4, drop_last=False)\n",
    "        test_iter = iter(test_loader)\n",
    "        test_num_mini_batches = len(test_loader)\n",
    "        test_predictions = np.array([])\n",
    "\n",
    "        # test_predictions = model.predict(test, batch_size = Batch_size, n_jobs=-1)\n",
    "        \n",
    "        for _ in tqdm(range(test_num_mini_batches)):\n",
    "            test_input, meta = test_iter.next()\n",
    "            test_input, meta = test_input.to(\"cuda:0\"), meta.to(\"cuda:0\")\n",
    "            test_output = net(test_input, meta)\n",
    "            test_predictions = np.append(test_predictions, test_output.detach().cpu().numpy())\n",
    "\n",
    "        final_test_predictions = []\n",
    "        for preds in tqdm(test_predictions):\n",
    "            final_test_predictions.extend(preds.ravel().tolist())\n",
    "\n",
    "        # final_test_predictions = [sigmoid(x) * 100 for x in final_test_predictions]\n",
    "        super_final_predictions.append(final_test_predictions)\n",
    "        # del df_test\n",
    "\n",
    "    super_final_predictions = np.mean(np.column_stack(super_final_predictions), axis=1)\n",
    "    df_test[\"Pawpularity\"] = super_final_predictions\n",
    "    df_test[\"Id\"] = id_temp\n",
    "    df_test = df_test[[\"Id\", \"Pawpularity\"]]\n",
    "    df_test.to_csv(\"submission.csv\", index=False)\n",
    "    return df_test"
   ]
  },
  {
   "cell_type": "code",
   "execution_count": 7,
   "id": "04d172ad",
   "metadata": {
    "execution": {
     "iopub.execute_input": "2021-12-15T02:59:35.584021Z",
     "iopub.status.busy": "2021-12-15T02:59:35.583244Z",
     "iopub.status.idle": "2021-12-15T02:59:35.587636Z",
     "shell.execute_reply": "2021-12-15T02:59:35.587191Z",
     "shell.execute_reply.started": "2021-12-13T00:17:26.361888Z"
    },
    "papermill": {
     "duration": 0.017635,
     "end_time": "2021-12-15T02:59:35.587739",
     "exception": false,
     "start_time": "2021-12-15T02:59:35.570104",
     "status": "completed"
    },
    "tags": []
   },
   "outputs": [],
   "source": [
    "def load_network_weights2(net, path):\n",
    "    print(\"loading pre-trained weights from {}\".format(path))\n",
    "    net.load_state_dict(torch.load(path, map_location=\"cuda:0\"))"
   ]
  },
  {
   "cell_type": "code",
   "execution_count": 8,
   "id": "364696eb",
   "metadata": {
    "execution": {
     "iopub.execute_input": "2021-12-15T02:59:35.613515Z",
     "iopub.status.busy": "2021-12-15T02:59:35.612973Z",
     "iopub.status.idle": "2021-12-15T02:59:54.388167Z",
     "shell.execute_reply": "2021-12-15T02:59:54.388901Z",
     "shell.execute_reply.started": "2021-12-13T00:17:26.375788Z"
    },
    "papermill": {
     "duration": 18.790666,
     "end_time": "2021-12-15T02:59:54.389139",
     "exception": false,
     "start_time": "2021-12-15T02:59:35.598473",
     "status": "completed"
    },
    "tags": []
   },
   "outputs": [
    {
     "name": "stdout",
     "output_type": "stream",
     "text": [
      "loading pre-trained weights from ../input/cnn-v0113/CNN-v0.11.3_epoch_23_lowest16.979701434602642.pth\n"
     ]
    },
    {
     "name": "stderr",
     "output_type": "stream",
     "text": [
      "/opt/conda/lib/python3.7/site-packages/torch/utils/data/dataloader.py:481: UserWarning: This DataLoader will create 4 worker processes in total. Our suggested max number of worker in current system is 2, which is smaller than what this DataLoader is going to create. Please be aware that excessive worker creation might get DataLoader running slow or even freeze, lower the worker number to avoid potential slowness/freeze if necessary.\n",
      "  cpuset_checked))\n",
      "100%|██████████| 2/2 [00:06<00:00,  3.05s/it]\n",
      "100%|██████████| 8/8 [00:00<00:00, 25096.81it/s]\n",
      "100%|██████████| 2/2 [00:00<00:00,  7.56it/s]\n",
      "100%|██████████| 8/8 [00:00<00:00, 14051.27it/s]\n",
      "100%|██████████| 2/2 [00:00<00:00,  7.18it/s]\n",
      "100%|██████████| 8/8 [00:00<00:00, 25555.55it/s]\n",
      "100%|██████████| 2/2 [00:00<00:00,  8.20it/s]\n",
      "100%|██████████| 8/8 [00:00<00:00, 18935.91it/s]\n",
      "100%|██████████| 2/2 [00:00<00:00,  8.06it/s]\n",
      "100%|██████████| 8/8 [00:00<00:00, 23763.76it/s]\n",
      "100%|██████████| 2/2 [00:00<00:00,  8.40it/s]\n",
      "100%|██████████| 8/8 [00:00<00:00, 26051.58it/s]\n",
      "100%|██████████| 2/2 [00:00<00:00,  8.07it/s]\n",
      "100%|██████████| 8/8 [00:00<00:00, 26441.63it/s]\n",
      "100%|██████████| 2/2 [00:00<00:00,  8.77it/s]\n",
      "100%|██████████| 8/8 [00:00<00:00, 57358.00it/s]\n",
      "100%|██████████| 2/2 [00:00<00:00,  7.60it/s]\n",
      "100%|██████████| 8/8 [00:00<00:00, 16264.87it/s]\n",
      "100%|██████████| 2/2 [00:00<00:00,  8.28it/s]\n",
      "100%|██████████| 8/8 [00:00<00:00, 50917.20it/s]\n"
     ]
    }
   ],
   "source": [
    "# param_to_load = \"../input/cnnv059-epoch-19pth/CNN-v0.5.9_epoch_19.pth\"\n",
    "# net = PetFinderModel() \n",
    "# df = predict(net, load_weights=True, pre_trained_params_path=param_to_load)\n",
    "df_test = predict2()"
   ]
  },
  {
   "cell_type": "code",
   "execution_count": 9,
   "id": "09a449f9",
   "metadata": {
    "execution": {
     "iopub.execute_input": "2021-12-15T02:59:54.464817Z",
     "iopub.status.busy": "2021-12-15T02:59:54.460394Z",
     "iopub.status.idle": "2021-12-15T02:59:54.477212Z",
     "shell.execute_reply": "2021-12-15T02:59:54.478099Z",
     "shell.execute_reply.started": "2021-12-13T00:17:46.57362Z"
    },
    "papermill": {
     "duration": 0.056839,
     "end_time": "2021-12-15T02:59:54.478330",
     "exception": false,
     "start_time": "2021-12-15T02:59:54.421491",
     "status": "completed"
    },
    "tags": []
   },
   "outputs": [
    {
     "data": {
      "text/html": [
       "<div>\n",
       "<style scoped>\n",
       "    .dataframe tbody tr th:only-of-type {\n",
       "        vertical-align: middle;\n",
       "    }\n",
       "\n",
       "    .dataframe tbody tr th {\n",
       "        vertical-align: top;\n",
       "    }\n",
       "\n",
       "    .dataframe thead th {\n",
       "        text-align: right;\n",
       "    }\n",
       "</style>\n",
       "<table border=\"1\" class=\"dataframe\">\n",
       "  <thead>\n",
       "    <tr style=\"text-align: right;\">\n",
       "      <th></th>\n",
       "      <th>Id</th>\n",
       "      <th>Pawpularity</th>\n",
       "    </tr>\n",
       "  </thead>\n",
       "  <tbody>\n",
       "    <tr>\n",
       "      <th>0</th>\n",
       "      <td>4128bae22183829d2b5fea10effdb0c3</td>\n",
       "      <td>28.829781</td>\n",
       "    </tr>\n",
       "    <tr>\n",
       "      <th>1</th>\n",
       "      <td>43a2262d7738e3d420d453815151079e</td>\n",
       "      <td>37.714205</td>\n",
       "    </tr>\n",
       "    <tr>\n",
       "      <th>2</th>\n",
       "      <td>4e429cead1848a298432a0acad014c9d</td>\n",
       "      <td>30.171717</td>\n",
       "    </tr>\n",
       "    <tr>\n",
       "      <th>3</th>\n",
       "      <td>80bc3ccafcc51b66303c2c263aa38486</td>\n",
       "      <td>25.578775</td>\n",
       "    </tr>\n",
       "    <tr>\n",
       "      <th>4</th>\n",
       "      <td>8f49844c382931444e68dffbe20228f4</td>\n",
       "      <td>33.510960</td>\n",
       "    </tr>\n",
       "  </tbody>\n",
       "</table>\n",
       "</div>"
      ],
      "text/plain": [
       "                                 Id  Pawpularity\n",
       "0  4128bae22183829d2b5fea10effdb0c3    28.829781\n",
       "1  43a2262d7738e3d420d453815151079e    37.714205\n",
       "2  4e429cead1848a298432a0acad014c9d    30.171717\n",
       "3  80bc3ccafcc51b66303c2c263aa38486    25.578775\n",
       "4  8f49844c382931444e68dffbe20228f4    33.510960"
      ]
     },
     "execution_count": 9,
     "metadata": {},
     "output_type": "execute_result"
    }
   ],
   "source": [
    "df_test.head()"
   ]
  },
  {
   "cell_type": "code",
   "execution_count": null,
   "id": "8130ae89",
   "metadata": {
    "papermill": {
     "duration": 0.041988,
     "end_time": "2021-12-15T02:59:54.564990",
     "exception": false,
     "start_time": "2021-12-15T02:59:54.523002",
     "status": "completed"
    },
    "tags": []
   },
   "outputs": [],
   "source": []
  }
 ],
 "metadata": {
  "kernelspec": {
   "display_name": "Python 3",
   "language": "python",
   "name": "python3"
  },
  "language_info": {
   "codemirror_mode": {
    "name": "ipython",
    "version": 3
   },
   "file_extension": ".py",
   "mimetype": "text/x-python",
   "name": "python",
   "nbconvert_exporter": "python",
   "pygments_lexer": "ipython3",
   "version": "3.7.12"
  },
  "papermill": {
   "default_parameters": {},
   "duration": 49.056028,
   "end_time": "2021-12-15T02:59:56.414464",
   "environment_variables": {},
   "exception": null,
   "input_path": "__notebook__.ipynb",
   "output_path": "__notebook__.ipynb",
   "parameters": {},
   "start_time": "2021-12-15T02:59:07.358436",
   "version": "2.3.3"
  }
 },
 "nbformat": 4,
 "nbformat_minor": 5
}
